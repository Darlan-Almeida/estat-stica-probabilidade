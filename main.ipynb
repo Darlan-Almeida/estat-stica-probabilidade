{
 "cells": [
  {
   "cell_type": "code",
   "execution_count": 5,
   "metadata": {},
   "outputs": [
    {
     "name": "stdout",
     "output_type": "stream",
     "text": [
      "A probabilidade acumulativa para X = 165 é 0.1587\n"
     ]
    }
   ],
   "source": [
    "from scipy.stats import norm\n",
    "\n",
    "# Suponha que você queira calcular a probabilidade acumulativa para X = 75\n",
    "X = 165\n",
    "mu = 170  # Média da distribuição normal\n",
    "sigma = 5  # Desvio padrão da distribuição normal\n",
    "\n",
    "# Calcule a probabilidade acumulativa da distribuicao normal\n",
    "z = norm.cdf(X, loc=mu, scale=sigma)\n",
    "\n",
    "print(f'A probabilidade acumulativa para X = {X} é {z:.4f}')"
   ]
  }
 ],
 "metadata": {
  "kernelspec": {
   "display_name": "Python 3",
   "language": "python",
   "name": "python3"
  },
  "language_info": {
   "codemirror_mode": {
    "name": "ipython",
    "version": 3
   },
   "file_extension": ".py",
   "mimetype": "text/x-python",
   "name": "python",
   "nbconvert_exporter": "python",
   "pygments_lexer": "ipython3",
   "version": "3.10.8"
  }
 },
 "nbformat": 4,
 "nbformat_minor": 2
}
